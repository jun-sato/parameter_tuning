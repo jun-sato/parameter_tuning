{
 "cells": [
  {
   "cell_type": "code",
   "execution_count": 24,
   "metadata": {
    "collapsed": true
   },
   "outputs": [],
   "source": [
    "import hyperopt\n",
    "from hyperopt import hp, tpe, Trials, fmin\n",
    "import xgboost as xgb\n",
    "import pandas as pd\n",
    "from sklearn.preprocessing import LabelEncoder\n",
    "from sklearn.model_selection import train_test_split , cross_val_score, StratifiedKFold\n",
    "import matplotlib.pyplot as plt\n",
    "%matplotlib inline\n",
    "import numpy as np"
   ]
  },
  {
   "cell_type": "code",
   "execution_count": 2,
   "metadata": {
    "collapsed": true
   },
   "outputs": [],
   "source": [
    "train = pd.read_csv('train.csv')"
   ]
  },
  {
   "cell_type": "code",
   "execution_count": 15,
   "metadata": {
    "collapsed": true
   },
   "outputs": [],
   "source": [
    "# hyperopt は最小値しか最適化できないので、最大化したい関数は返り値に-1を掛けます。\n",
    "def objective(args):\n",
    "    classifier = xgb.XGBClassifier(**args)\n",
    "    stratifiedkfold = StratifiedKFold(n_splits=5)\n",
    "    result = cross_val_score(classifier, train.drop(['id','target'],axis = 1), train.target, cv=stratifiedkfold,scoring='neg_log_loss')\n",
    "    return -result.mean()"
   ]
  },
  {
   "cell_type": "code",
   "execution_count": 4,
   "metadata": {
    "collapsed": true
   },
   "outputs": [],
   "source": [
    "hyperopt_parameters = {'min_child_weight': hp.uniform('min_child_weight',1,20),\n",
    "                        'colsample_bytree': hp.uniform('colsample_bytree',0.1, 1),\n",
    "                        'max_depth': hp.choice('max_depth',np.arange(5, 15)),\n",
    "                        'subsample': hp.uniform('subsample',0.5, 1),\n",
    "                        'gamma': hp.uniform('gamma',0, 10),\n",
    "                        'alpha': hp.uniform('alpha',0, 10),\n",
    "                        }"
   ]
  },
  {
   "cell_type": "code",
   "execution_count": 16,
   "metadata": {},
   "outputs": [],
   "source": [
    "max_evals = 50\n",
    "trials = Trials()\n",
    "\n",
    "best = fmin(\n",
    "    objective,\n",
    "    hyperopt_parameters,\n",
    "    algo = tpe.suggest,\n",
    "    max_evals =max_evals,\n",
    "    trials = trials,\n",
    "    verbose = 1)"
   ]
  },
  {
   "cell_type": "code",
   "execution_count": 7,
   "metadata": {},
   "outputs": [
    {
     "data": {
      "text/plain": [
       "{'alpha': <hyperopt.pyll.base.Apply at 0x7f5a188f2cc0>,\n",
       " 'colsample_bytree': <hyperopt.pyll.base.Apply at 0x7f5a188f2588>,\n",
       " 'gamma': <hyperopt.pyll.base.Apply at 0x7f5a188f2b70>,\n",
       " 'max_depth': <hyperopt.pyll.base.Apply at 0x7f5a188f26a0>,\n",
       " 'min_child_weight': <hyperopt.pyll.base.Apply at 0x7f5a188f2438>,\n",
       " 'subsample': <hyperopt.pyll.base.Apply at 0x7f5a188f2a20>}"
      ]
     },
     "execution_count": 7,
     "metadata": {},
     "output_type": "execute_result"
    }
   ],
   "source": [
    "hyperopt_parameters"
   ]
  },
  {
   "cell_type": "code",
   "execution_count": 22,
   "metadata": {},
   "outputs": [
    {
     "data": {
      "text/plain": [
       "0.47493729111919747"
      ]
     },
     "execution_count": 22,
     "metadata": {},
     "output_type": "execute_result"
    }
   ],
   "source": [
    "np.array(trials.losses()).min()"
   ]
  },
  {
   "cell_type": "code",
   "execution_count": 27,
   "metadata": {},
   "outputs": [
    {
     "data": {
      "text/plain": [
       "{'alpha': 5.646412316202003,\n",
       " 'colsample_bytree': 0.811202221397137,\n",
       " 'gamma': 0.09906472649204706,\n",
       " 'max_depth': 8,\n",
       " 'min_child_weight': 2.8510917238009075,\n",
       " 'subsample': 0.7277262461220181}"
      ]
     },
     "execution_count": 27,
     "metadata": {},
     "output_type": "execute_result"
    }
   ],
   "source": [
    "best"
   ]
  },
  {
   "cell_type": "code",
   "execution_count": 23,
   "metadata": {},
   "outputs": [
    {
     "data": {
      "text/plain": [
       "[0.5087615893603948,\n",
       " 0.573572647842066,\n",
       " 0.5831283965495182,\n",
       " 0.6533833165933197,\n",
       " 0.5570681817426844,\n",
       " 0.5047742803557146,\n",
       " 0.5680523753224402,\n",
       " 0.5717789134291154,\n",
       " 0.6540103997058463,\n",
       " 0.6009065567121264,\n",
       " 0.5109517881545422,\n",
       " 0.4855839333980255,\n",
       " 0.5176790638845439,\n",
       " 0.49242608788393644,\n",
       " 0.5911731252010091,\n",
       " 0.5369293133785584,\n",
       " 0.5265556593135442,\n",
       " 0.5658322602765572,\n",
       " 0.5888709464109975,\n",
       " 0.5311287539420657,\n",
       " 0.48675113559718186,\n",
       " 0.4906226387267384,\n",
       " 0.4970876391150291,\n",
       " 0.47493729111919747,\n",
       " 0.5128535637523319,\n",
       " 0.5101138214953228,\n",
       " 0.4909583220811976,\n",
       " 0.5724850913770657,\n",
       " 0.5092879825901219,\n",
       " 0.5279080580511747,\n",
       " 0.5680879415213307,\n",
       " 0.5560501281213064,\n",
       " 0.5862264529481233,\n",
       " 0.5244538802738745,\n",
       " 0.5376857967169663,\n",
       " 0.5812701832478924,\n",
       " 0.5291670238440207,\n",
       " 0.5270668727669443,\n",
       " 0.5190346483072571,\n",
       " 0.5027394499008622,\n",
       " 0.5561601154313477,\n",
       " 0.5791811767798783,\n",
       " 0.596239962507037,\n",
       " 0.552986969934691,\n",
       " 0.5887556110174227,\n",
       " 0.5121622731640346,\n",
       " 0.507374272254828,\n",
       " 0.5562813740634589,\n",
       " 0.4944603934810333,\n",
       " 0.5203230173062475]"
      ]
     },
     "execution_count": 23,
     "metadata": {},
     "output_type": "execute_result"
    }
   ],
   "source": [
    "trials.losses()"
   ]
  },
  {
   "cell_type": "code",
   "execution_count": 29,
   "metadata": {},
   "outputs": [
    {
     "data": {
      "image/png": "[encoded data removed]",
      "text/plain": [
       "<matplotlib.figure.Figure at 0x7f1b4fb9b400>"
      ]
     },
     "metadata": {},
     "output_type": "display_data"
    }
   ],
   "source": [
    "x = np.arange(len(trials.losses()))\n",
    "y = trials.losses()\n",
    "plt.plot(x,y)\n",
    "plt.savefig('loss.jpg')"
   ]
  },
  {
   "cell_type": "code",
   "execution_count": null,
   "metadata": {
    "collapsed": true
   },
   "outputs": [],
   "source": []
  }
 ],
 "metadata": {
  "kernelspec": {
   "display_name": "Python 3",
   "language": "python",
   "name": "python3"
  },
  "language_info": {
   "codemirror_mode": {
    "name": "ipython",
    "version": 3
   },
   "file_extension": ".py",
   "mimetype": "text/x-python",
   "name": "python",
   "nbconvert_exporter": "python",
   "pygments_lexer": "ipython3",
   "version": "3.6.0"
  }
 },
 "nbformat": 4,
 "nbformat_minor": 2
}
